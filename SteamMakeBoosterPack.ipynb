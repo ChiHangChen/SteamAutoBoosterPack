{
 "cells": [
  {
   "cell_type": "code",
   "execution_count": null,
   "metadata": {},
   "outputs": [],
   "source": [
    "import steam\n",
    "import re\n",
    "username = 'steamid'\n",
    "password = 'steampwd'\n",
    "account = steam.webauth.WebAuth(username, password)\n",
    "account_session = account.login(twofactor_code=\"J9X79\")"
   ]
  },
  {
   "cell_type": "code",
   "execution_count": null,
   "metadata": {},
   "outputs": [],
   "source": [
    "make_url = 'https://steamcommunity.com//tradingcards/ajaxcreatebooster'\n",
    "unpack_url = 'https://steamcommunity.com/id/Chihang0711/ajaxunpackbooster/'\n",
    "headers = {\n",
    "    \"Referer\": \"https://steamcommunity.com/tradingcards/boostercreator/\",\n",
    "    \"User-Agent\": \"Mozilla/5.0 (Windows NT 10.0; Win64; x64) AppleWebKit/537.36 (KHTML, like Gecko) Chrome/79.0.3945.130 Safari/537.36\"\n",
    "}\n",
    "game_id = [\"899970\",\"746650\",\"602520\",\"333600\",\"420110\",\"385800\",\"828580\"]\n",
    "for gi in game_id:\n",
    "    print(gi)\n",
    "    params = {\n",
    "        \"sessionid\" : account.session_id,\n",
    "        \"appid\": gi,\n",
    "        \"series\": 1,\n",
    "        \"tradability_preference\" : 2\n",
    "    }\n",
    "    response = account_session.post(make_url, headers=headers, data=params)\n",
    "    if response.text[2:18]=='purchase_eresult':\n",
    "        continue\n",
    "    item_id = re.search(r'\"communityitemid\":\"([^\"]+)\"', response.text).group(1)\n",
    "    params = {\n",
    "        \"appid\": gi,\n",
    "        \"communityitemid\": item_id,\n",
    "        \"sessionid\" : account.session_id\n",
    "    }\n",
    "    account_session.post(unpack_url, headers=headers, data=params)"
   ]
  }
 ],
 "metadata": {
  "kernelspec": {
   "display_name": "Python 3",
   "language": "python",
   "name": "python3"
  },
  "language_info": {
   "codemirror_mode": {
    "name": "ipython",
    "version": 3
   },
   "file_extension": ".py",
   "mimetype": "text/x-python",
   "name": "python",
   "nbconvert_exporter": "python",
   "pygments_lexer": "ipython3",
   "version": "3.7.4"
  }
 },
 "nbformat": 4,
 "nbformat_minor": 2
}
